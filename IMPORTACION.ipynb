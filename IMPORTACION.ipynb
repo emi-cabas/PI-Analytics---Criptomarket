{
 "cells": [
  {
   "cell_type": "markdown",
   "metadata": {},
   "source": [
    "Usé este código para extraer todas las cotizaciones a lo largo del tiempo, cambiando el ID de la moneda que necesitaba. El resto de los datos se mantienen fijos."
   ]
  },
  {
   "cell_type": "code",
   "execution_count": 1,
   "metadata": {},
   "outputs": [],
   "source": [
    "from pycoingecko import CoinGeckoAPI\n",
    "cg = CoinGeckoAPI()"
   ]
  },
  {
   "cell_type": "code",
   "execution_count": 2,
   "metadata": {},
   "outputs": [],
   "source": [
    "import pandas as pd"
   ]
  },
  {
   "cell_type": "markdown",
   "metadata": {},
   "source": [
    "Coins con las que se puede hacer STAKING."
   ]
  },
  {
   "cell_type": "code",
   "execution_count": 4,
   "metadata": {},
   "outputs": [],
   "source": [
    "staking = cg.get_coins_markets(vs_currency=\"usd\", category=\"liquid-staking-tokens\", order=\"market_cap_desc\")\n",
    "df_stak = pd.DataFrame(staking)"
   ]
  },
  {
   "cell_type": "code",
   "execution_count": 6,
   "metadata": {},
   "outputs": [
    {
     "data": {
      "text/html": [
       "<div>\n",
       "<style scoped>\n",
       "    .dataframe tbody tr th:only-of-type {\n",
       "        vertical-align: middle;\n",
       "    }\n",
       "\n",
       "    .dataframe tbody tr th {\n",
       "        vertical-align: top;\n",
       "    }\n",
       "\n",
       "    .dataframe thead th {\n",
       "        text-align: right;\n",
       "    }\n",
       "</style>\n",
       "<table border=\"1\" class=\"dataframe\">\n",
       "  <thead>\n",
       "    <tr style=\"text-align: right;\">\n",
       "      <th></th>\n",
       "      <th>id</th>\n",
       "      <th>symbol</th>\n",
       "      <th>name</th>\n",
       "      <th>image</th>\n",
       "      <th>current_price</th>\n",
       "      <th>market_cap</th>\n",
       "      <th>market_cap_rank</th>\n",
       "      <th>fully_diluted_valuation</th>\n",
       "      <th>total_volume</th>\n",
       "      <th>high_24h</th>\n",
       "      <th>...</th>\n",
       "      <th>total_supply</th>\n",
       "      <th>max_supply</th>\n",
       "      <th>ath</th>\n",
       "      <th>ath_change_percentage</th>\n",
       "      <th>ath_date</th>\n",
       "      <th>atl</th>\n",
       "      <th>atl_change_percentage</th>\n",
       "      <th>atl_date</th>\n",
       "      <th>roi</th>\n",
       "      <th>last_updated</th>\n",
       "    </tr>\n",
       "  </thead>\n",
       "  <tbody>\n",
       "    <tr>\n",
       "      <th>0</th>\n",
       "      <td>staked-ether</td>\n",
       "      <td>steth</td>\n",
       "      <td>Lido Staked Ether</td>\n",
       "      <td>https://assets.coingecko.com/coins/images/1344...</td>\n",
       "      <td>1821.12</td>\n",
       "      <td>1.482024e+10</td>\n",
       "      <td>7.0</td>\n",
       "      <td>1.482024e+10</td>\n",
       "      <td>23232132.0</td>\n",
       "      <td>1841.50</td>\n",
       "      <td>...</td>\n",
       "      <td>8.135957e+06</td>\n",
       "      <td>8.135957e+06</td>\n",
       "      <td>4829.57</td>\n",
       "      <td>-62.29318</td>\n",
       "      <td>2021-11-10T14:40:47.256Z</td>\n",
       "      <td>482.90</td>\n",
       "      <td>277.11568</td>\n",
       "      <td>2020-12-22T04:08:21.854Z</td>\n",
       "      <td>None</td>\n",
       "      <td>2023-08-16T12:09:06.407Z</td>\n",
       "    </tr>\n",
       "    <tr>\n",
       "      <th>1</th>\n",
       "      <td>rocket-pool-eth</td>\n",
       "      <td>reth</td>\n",
       "      <td>Rocket Pool ETH</td>\n",
       "      <td>https://assets.coingecko.com/coins/images/2076...</td>\n",
       "      <td>1980.42</td>\n",
       "      <td>9.864187e+08</td>\n",
       "      <td>44.0</td>\n",
       "      <td>9.864187e+08</td>\n",
       "      <td>3703821.0</td>\n",
       "      <td>2002.67</td>\n",
       "      <td>...</td>\n",
       "      <td>4.979949e+05</td>\n",
       "      <td>NaN</td>\n",
       "      <td>4814.31</td>\n",
       "      <td>-58.86872</td>\n",
       "      <td>2021-12-01T08:03:50.749Z</td>\n",
       "      <td>887.26</td>\n",
       "      <td>123.17916</td>\n",
       "      <td>2022-06-18T20:55:45.957Z</td>\n",
       "      <td>None</td>\n",
       "      <td>2023-08-16T12:08:42.920Z</td>\n",
       "    </tr>\n",
       "    <tr>\n",
       "      <th>2</th>\n",
       "      <td>frax-ether</td>\n",
       "      <td>frxeth</td>\n",
       "      <td>Frax Ether</td>\n",
       "      <td>https://assets.coingecko.com/coins/images/2828...</td>\n",
       "      <td>1819.85</td>\n",
       "      <td>4.554954e+08</td>\n",
       "      <td>90.0</td>\n",
       "      <td>4.554954e+08</td>\n",
       "      <td>2392394.0</td>\n",
       "      <td>1840.49</td>\n",
       "      <td>...</td>\n",
       "      <td>2.504139e+05</td>\n",
       "      <td>NaN</td>\n",
       "      <td>2134.61</td>\n",
       "      <td>-14.74246</td>\n",
       "      <td>2023-04-16T19:24:52.171Z</td>\n",
       "      <td>1137.25</td>\n",
       "      <td>60.02823</td>\n",
       "      <td>2022-11-23T02:25:33.267Z</td>\n",
       "      <td>None</td>\n",
       "      <td>2023-08-16T12:08:53.978Z</td>\n",
       "    </tr>\n",
       "    <tr>\n",
       "      <th>3</th>\n",
       "      <td>staked-frax-ether</td>\n",
       "      <td>sfrxeth</td>\n",
       "      <td>Staked Frax Ether</td>\n",
       "      <td>https://assets.coingecko.com/coins/images/2828...</td>\n",
       "      <td>1917.02</td>\n",
       "      <td>3.148883e+08</td>\n",
       "      <td>112.0</td>\n",
       "      <td>3.148883e+08</td>\n",
       "      <td>80531.0</td>\n",
       "      <td>1939.47</td>\n",
       "      <td>...</td>\n",
       "      <td>1.642206e+05</td>\n",
       "      <td>NaN</td>\n",
       "      <td>7545.09</td>\n",
       "      <td>-74.59174</td>\n",
       "      <td>2023-02-16T07:51:36.849Z</td>\n",
       "      <td>1147.58</td>\n",
       "      <td>67.05327</td>\n",
       "      <td>2022-12-23T11:50:57.675Z</td>\n",
       "      <td>None</td>\n",
       "      <td>2023-08-16T12:08:44.926Z</td>\n",
       "    </tr>\n",
       "    <tr>\n",
       "      <th>4</th>\n",
       "      <td>seth2</td>\n",
       "      <td>seth2</td>\n",
       "      <td>sETH2</td>\n",
       "      <td>https://assets.coingecko.com/coins/images/1656...</td>\n",
       "      <td>1809.06</td>\n",
       "      <td>1.507867e+08</td>\n",
       "      <td>195.0</td>\n",
       "      <td>1.507867e+08</td>\n",
       "      <td>38310.0</td>\n",
       "      <td>1829.64</td>\n",
       "      <td>...</td>\n",
       "      <td>8.333101e+04</td>\n",
       "      <td>NaN</td>\n",
       "      <td>4821.87</td>\n",
       "      <td>-62.47325</td>\n",
       "      <td>2021-11-10T14:23:55.647Z</td>\n",
       "      <td>887.70</td>\n",
       "      <td>103.84083</td>\n",
       "      <td>2022-06-18T20:57:32.629Z</td>\n",
       "      <td>None</td>\n",
       "      <td>2023-08-16T12:08:17.372Z</td>\n",
       "    </tr>\n",
       "  </tbody>\n",
       "</table>\n",
       "<p>5 rows × 26 columns</p>\n",
       "</div>"
      ],
      "text/plain": [
       "                  id   symbol               name   \n",
       "0       staked-ether    steth  Lido Staked Ether  \\\n",
       "1    rocket-pool-eth     reth    Rocket Pool ETH   \n",
       "2         frax-ether   frxeth         Frax Ether   \n",
       "3  staked-frax-ether  sfrxeth  Staked Frax Ether   \n",
       "4              seth2    seth2              sETH2   \n",
       "\n",
       "                                               image  current_price   \n",
       "0  https://assets.coingecko.com/coins/images/1344...        1821.12  \\\n",
       "1  https://assets.coingecko.com/coins/images/2076...        1980.42   \n",
       "2  https://assets.coingecko.com/coins/images/2828...        1819.85   \n",
       "3  https://assets.coingecko.com/coins/images/2828...        1917.02   \n",
       "4  https://assets.coingecko.com/coins/images/1656...        1809.06   \n",
       "\n",
       "     market_cap  market_cap_rank  fully_diluted_valuation  total_volume   \n",
       "0  1.482024e+10              7.0             1.482024e+10    23232132.0  \\\n",
       "1  9.864187e+08             44.0             9.864187e+08     3703821.0   \n",
       "2  4.554954e+08             90.0             4.554954e+08     2392394.0   \n",
       "3  3.148883e+08            112.0             3.148883e+08       80531.0   \n",
       "4  1.507867e+08            195.0             1.507867e+08       38310.0   \n",
       "\n",
       "   high_24h  ...  total_supply    max_supply      ath  ath_change_percentage   \n",
       "0   1841.50  ...  8.135957e+06  8.135957e+06  4829.57              -62.29318  \\\n",
       "1   2002.67  ...  4.979949e+05           NaN  4814.31              -58.86872   \n",
       "2   1840.49  ...  2.504139e+05           NaN  2134.61              -14.74246   \n",
       "3   1939.47  ...  1.642206e+05           NaN  7545.09              -74.59174   \n",
       "4   1829.64  ...  8.333101e+04           NaN  4821.87              -62.47325   \n",
       "\n",
       "                   ath_date      atl  atl_change_percentage   \n",
       "0  2021-11-10T14:40:47.256Z   482.90              277.11568  \\\n",
       "1  2021-12-01T08:03:50.749Z   887.26              123.17916   \n",
       "2  2023-04-16T19:24:52.171Z  1137.25               60.02823   \n",
       "3  2023-02-16T07:51:36.849Z  1147.58               67.05327   \n",
       "4  2021-11-10T14:23:55.647Z   887.70              103.84083   \n",
       "\n",
       "                   atl_date   roi              last_updated  \n",
       "0  2020-12-22T04:08:21.854Z  None  2023-08-16T12:09:06.407Z  \n",
       "1  2022-06-18T20:55:45.957Z  None  2023-08-16T12:08:42.920Z  \n",
       "2  2022-11-23T02:25:33.267Z  None  2023-08-16T12:08:53.978Z  \n",
       "3  2022-12-23T11:50:57.675Z  None  2023-08-16T12:08:44.926Z  \n",
       "4  2022-06-18T20:57:32.629Z  None  2023-08-16T12:08:17.372Z  \n",
       "\n",
       "[5 rows x 26 columns]"
      ]
     },
     "execution_count": 6,
     "metadata": {},
     "output_type": "execute_result"
    }
   ],
   "source": [
    "df_stak.head()"
   ]
  },
  {
   "cell_type": "markdown",
   "metadata": {},
   "source": [
    "Cotizaciones en un rango:"
   ]
  },
  {
   "cell_type": "code",
   "execution_count": 57,
   "metadata": {},
   "outputs": [],
   "source": [
    "precio_btc = cg.get_coin_market_chart_range_by_id(id=\"bitcoin\", vs_currency=\"usd\", from_timestamp=\"1367118000\", to_timestamp=\"1690772400\")"
   ]
  },
  {
   "cell_type": "code",
   "execution_count": 61,
   "metadata": {},
   "outputs": [],
   "source": [
    "df_btc = pd.DataFrame.from_records(precio_btc['prices'], columns=['timestamp', 'price'])\n",
    "\n",
    "df_btc['timestamp'] = pd.to_datetime(df_btc['timestamp'], unit='ms')\n",
    "\n",
    "df_btc.to_csv(\"data_btc.csv\", index=False)\n",
    "\n",
    "df_btc['timestamp'] = pd.to_datetime(df_btc['timestamp'])\n",
    "\n",
    "df_btc['timestamp'] = df_btc['timestamp'].dt.date\n",
    "\n",
    "df_btc[\"price\"] = df_btc[\"price\"].round(2)\n",
    "\n",
    "df_btc.to_csv(\"1_cotizaciones_btc.csv\", index=False)"
   ]
  },
  {
   "cell_type": "code",
   "execution_count": 64,
   "metadata": {},
   "outputs": [],
   "source": [
    "precio_eth = cg.get_coin_market_chart_range_by_id(id=\"ethereum\", vs_currency=\"usd\", from_timestamp=\"1367118000\", to_timestamp=\"1690772400\")\n",
    "\n",
    "df_eth = pd.DataFrame.from_records(precio_eth['prices'], columns=['timestamp', 'price'])\n",
    "\n",
    "df_eth['timestamp'] = pd.to_datetime(df_eth['timestamp'], unit='ms')\n",
    "\n",
    "df_eth.to_csv(\"data_eth.csv\", index=False)\n",
    "\n",
    "df_eth['timestamp'] = pd.to_datetime(df_eth['timestamp'])\n",
    "\n",
    "df_eth['timestamp'] = df_eth['timestamp'].dt.date\n",
    "\n",
    "df_eth[\"price\"] = df_eth[\"price\"].round(2)\n",
    "\n",
    "df_eth.to_csv(\"2_cotizaciones_eth.csv\", index=False)"
   ]
  },
  {
   "cell_type": "code",
   "execution_count": 70,
   "metadata": {},
   "outputs": [],
   "source": [
    "df = pd.read_csv('precios_sol.csv')\n",
    "df[\"price\"] = df[\"price\"].round(2)\n",
    "df.to_csv(\"8_cotizaciones_solana.csv\", index=False)"
   ]
  },
  {
   "cell_type": "markdown",
   "metadata": {},
   "source": [
    "Cotizaciones de USDT/USD en un rango menor:"
   ]
  },
  {
   "cell_type": "code",
   "execution_count": 3,
   "metadata": {},
   "outputs": [],
   "source": [
    "precio_tether = cg.get_coin_market_chart_range_by_id(id=\"tether\", vs_currency=\"usd\", from_timestamp=\"1577761200\", to_timestamp=\"1691982000\")"
   ]
  },
  {
   "cell_type": "code",
   "execution_count": 6,
   "metadata": {},
   "outputs": [],
   "source": [
    "df_usdt = pd.DataFrame.from_records(precio_tether['prices'], columns=['timestamp', 'price'])\n",
    "\n",
    "df_usdt['timestamp'] = pd.to_datetime(df_usdt['timestamp'], unit='ms')\n",
    "\n",
    "df_usdt.to_csv(\"data_tether.csv\", index=False)\n",
    "\n",
    "df_usdt['timestamp'] = pd.to_datetime(df_usdt['timestamp'])\n",
    "\n",
    "df_usdt['timestamp'] = df_usdt['timestamp'].dt.date\n",
    "\n",
    "df_usdt[\"price\"] = df_usdt[\"price\"].round(3)\n",
    "\n",
    "df_usdt.to_csv(\"3_cotizaciones_usdt.csv\", index=False)"
   ]
  },
  {
   "cell_type": "markdown",
   "metadata": {},
   "source": [
    "Cotización USDT/ARS:"
   ]
  },
  {
   "cell_type": "code",
   "execution_count": 7,
   "metadata": {},
   "outputs": [],
   "source": [
    "precio_tether_ars = cg.get_coin_market_chart_range_by_id(id=\"tether\", vs_currency=\"ars\", from_timestamp=\"1577761200\", to_timestamp=\"1691982000\")"
   ]
  },
  {
   "cell_type": "code",
   "execution_count": 8,
   "metadata": {},
   "outputs": [],
   "source": [
    "df_usdtars = pd.DataFrame.from_records(precio_tether_ars['prices'], columns=['timestamp', 'price'])\n",
    "\n",
    "df_usdtars['timestamp'] = pd.to_datetime(df_usdtars['timestamp'], unit='ms')\n",
    "\n",
    "df_usdtars.to_csv(\"data_tetherars.csv\", index=False)\n",
    "\n",
    "df_usdtars['timestamp'] = pd.to_datetime(df_usdtars['timestamp'])\n",
    "\n",
    "df_usdtars['timestamp'] = df_usdtars['timestamp'].dt.date\n",
    "\n",
    "df_usdtars[\"price\"] = df_usdtars[\"price\"].round(3)\n",
    "\n",
    "df_usdtars.to_csv(\"3_cotizaciones_usdt_ars.csv\", index=False)"
   ]
  },
  {
   "cell_type": "markdown",
   "metadata": {},
   "source": [
    "Cotización Blue"
   ]
  },
  {
   "cell_type": "code",
   "execution_count": 14,
   "metadata": {},
   "outputs": [],
   "source": [
    "# Cargar el archivo CSV en un DataFrame\n",
    "dfblue = pd.read_csv('evolution.csv')\n",
    "\n",
    "# Filtrar los datos\n",
    "filtered_df = dfblue[dfblue['type'] == 'Blue'][['day', 'value_sell']]\n",
    "filtered_df = filtered_df.rename(columns={'value_sell': 'Blue'})\n",
    "filtered_df.to_csv(\"3_cotizaciones_blue.csv\", index=False)"
   ]
  },
  {
   "cell_type": "code",
   "execution_count": 2,
   "metadata": {},
   "outputs": [
    {
     "ename": "NameError",
     "evalue": "name 'pd' is not defined",
     "output_type": "error",
     "traceback": [
      "\u001b[1;31m---------------------------------------------------------------------------\u001b[0m",
      "\u001b[1;31mNameError\u001b[0m                                 Traceback (most recent call last)",
      "Cell \u001b[1;32mIn[2], line 2\u001b[0m\n\u001b[0;32m      1\u001b[0m \u001b[39m# Cargar los archivos CSV en DataFrames\u001b[39;00m\n\u001b[1;32m----> 2\u001b[0m df1 \u001b[39m=\u001b[39m pd\u001b[39m.\u001b[39mread_csv(\u001b[39m'\u001b[39m\u001b[39mCOTIZACIONES/3_cotizaciones_usdt.csv\u001b[39m\u001b[39m'\u001b[39m)\n\u001b[0;32m      3\u001b[0m df2 \u001b[39m=\u001b[39m pd\u001b[39m.\u001b[39mread_csv(\u001b[39m'\u001b[39m\u001b[39mCOTIZACIONES/3_cotizaciones_usdt_ars.csv\u001b[39m\u001b[39m'\u001b[39m)\n\u001b[0;32m      4\u001b[0m df3 \u001b[39m=\u001b[39m pd\u001b[39m.\u001b[39mread_csv(\u001b[39m'\u001b[39m\u001b[39mCOTIZACIONES/3_cotizaciones_blue.csv\u001b[39m\u001b[39m'\u001b[39m)\n",
      "\u001b[1;31mNameError\u001b[0m: name 'pd' is not defined"
     ]
    }
   ],
   "source": [
    "# Cargar los archivos CSV en DataFrames\n",
    "df1 = pd.read_csv('COTIZACIONES/3_cotizaciones_usdt.csv')\n",
    "df2 = pd.read_csv('COTIZACIONES/3_cotizaciones_usdt_ars.csv')\n",
    "df3 = pd.read_csv('COTIZACIONES/3_cotizaciones_blue.csv')\n",
    "\n",
    "# Combinar los DataFrames en base a la columna de fecha\n",
    "merged_df = pd.merge(df1, df2, on='FECHA')\n",
    "merged_df = pd.merge(merged_df, df3, on='FECHA')\n",
    "\n",
    "# Guardar la base de datos en un nuevo archivo CSV\n",
    "merged_df.to_csv('base_datos_usd.csv', index=False)"
   ]
  }
 ],
 "metadata": {
  "kernelspec": {
   "display_name": "Python 3",
   "language": "python",
   "name": "python3"
  },
  "language_info": {
   "codemirror_mode": {
    "name": "ipython",
    "version": 3
   },
   "file_extension": ".py",
   "mimetype": "text/x-python",
   "name": "python",
   "nbconvert_exporter": "python",
   "pygments_lexer": "ipython3",
   "version": "3.11.2"
  },
  "orig_nbformat": 4
 },
 "nbformat": 4,
 "nbformat_minor": 2
}
